{
 "cells": [
  {
   "attachments": {
    "image.png": {
     "image/png": "[encoded data removed]"
    }
   },
   "cell_type": "markdown",
   "id": "d66888ae",
   "metadata": {},
   "source": [
    "## 回归分析\n",
    "最基本的回归分析方法是线性回归(linear regression)，它是通过线性函数对变量间定量关系进行统计分析。比如广告的投入金额与获客数量，就可能呈现出线性关系\n",
    "\n",
    "![image.png](attachment:image.png)\n",
    "\n",
    "<center>广告投入/新注册用户数</center>\n"
   ]
  },
  {
   "cell_type": "code",
   "execution_count": 1,
   "id": "de75f28f",
   "metadata": {},
   "outputs": [
    {
     "data": {
      "text/html": [
       "<div>\n",
       "<style scoped>\n",
       "    .dataframe tbody tr th:only-of-type {\n",
       "        vertical-align: middle;\n",
       "    }\n",
       "\n",
       "    .dataframe tbody tr th {\n",
       "        vertical-align: top;\n",
       "    }\n",
       "\n",
       "    .dataframe thead th {\n",
       "        text-align: right;\n",
       "    }\n",
       "</style>\n",
       "<table border=\"1\" class=\"dataframe\">\n",
       "  <thead>\n",
       "    <tr style=\"text-align: right;\">\n",
       "      <th></th>\n",
       "      <th>订单号</th>\n",
       "      <th>产品码</th>\n",
       "      <th>消费日期</th>\n",
       "      <th>产品说明</th>\n",
       "      <th>数量</th>\n",
       "      <th>单价</th>\n",
       "      <th>用户码</th>\n",
       "      <th>城市</th>\n",
       "    </tr>\n",
       "  </thead>\n",
       "  <tbody>\n",
       "    <tr>\n",
       "      <th>0</th>\n",
       "      <td>536374</td>\n",
       "      <td>21258</td>\n",
       "      <td>6/1/2022 9:09</td>\n",
       "      <td>绿联usb分线器 一拖四</td>\n",
       "      <td>32</td>\n",
       "      <td>10.95</td>\n",
       "      <td>15100</td>\n",
       "      <td>北京</td>\n",
       "    </tr>\n",
       "    <tr>\n",
       "      <th>1</th>\n",
       "      <td>536376</td>\n",
       "      <td>22114</td>\n",
       "      <td>6/1/2022 9:32</td>\n",
       "      <td>加大男装T恤男大码胖子宽松卡</td>\n",
       "      <td>48</td>\n",
       "      <td>50.45</td>\n",
       "      <td>15291</td>\n",
       "      <td>上海</td>\n",
       "    </tr>\n",
       "    <tr>\n",
       "      <th>2</th>\n",
       "      <td>536376</td>\n",
       "      <td>21733</td>\n",
       "      <td>6/1/2022 9:32</td>\n",
       "      <td>唐装男夏季青年棉麻中国风加肥</td>\n",
       "      <td>64</td>\n",
       "      <td>86.55</td>\n",
       "      <td>15291</td>\n",
       "      <td>上海</td>\n",
       "    </tr>\n",
       "    <tr>\n",
       "      <th>3</th>\n",
       "      <td>536378</td>\n",
       "      <td>22386</td>\n",
       "      <td>6/1/2022 9:37</td>\n",
       "      <td>越南进口白心火龙果4个装</td>\n",
       "      <td>10</td>\n",
       "      <td>108.95</td>\n",
       "      <td>14688</td>\n",
       "      <td>北京</td>\n",
       "    </tr>\n",
       "    <tr>\n",
       "      <th>4</th>\n",
       "      <td>536378</td>\n",
       "      <td>85099C</td>\n",
       "      <td>6/1/2022 9:37</td>\n",
       "      <td>大连美早樱桃400g 果径约26mm</td>\n",
       "      <td>10</td>\n",
       "      <td>166.95</td>\n",
       "      <td>14688</td>\n",
       "      <td>北京</td>\n",
       "    </tr>\n",
       "    <tr>\n",
       "      <th>...</th>\n",
       "      <td>...</td>\n",
       "      <td>...</td>\n",
       "      <td>...</td>\n",
       "      <td>...</td>\n",
       "      <td>...</td>\n",
       "      <td>...</td>\n",
       "      <td>...</td>\n",
       "      <td>...</td>\n",
       "    </tr>\n",
       "    <tr>\n",
       "      <th>87175</th>\n",
       "      <td>581585</td>\n",
       "      <td>21684</td>\n",
       "      <td>6/9/2023 12:31</td>\n",
       "      <td>后续产品说明已经脱敏</td>\n",
       "      <td>12</td>\n",
       "      <td>0.85</td>\n",
       "      <td>15804</td>\n",
       "      <td>深圳</td>\n",
       "    </tr>\n",
       "    <tr>\n",
       "      <th>87176</th>\n",
       "      <td>581585</td>\n",
       "      <td>22398</td>\n",
       "      <td>6/9/2023 12:31</td>\n",
       "      <td>后续产品说明已经脱敏</td>\n",
       "      <td>12</td>\n",
       "      <td>0.39</td>\n",
       "      <td>15804</td>\n",
       "      <td>深圳</td>\n",
       "    </tr>\n",
       "    <tr>\n",
       "      <th>87177</th>\n",
       "      <td>581585</td>\n",
       "      <td>23328</td>\n",
       "      <td>6/9/2023 12:31</td>\n",
       "      <td>后续产品说明已经脱敏</td>\n",
       "      <td>4</td>\n",
       "      <td>3.75</td>\n",
       "      <td>15804</td>\n",
       "      <td>深圳</td>\n",
       "    </tr>\n",
       "    <tr>\n",
       "      <th>87178</th>\n",
       "      <td>581585</td>\n",
       "      <td>23145</td>\n",
       "      <td>6/9/2023 12:31</td>\n",
       "      <td>后续产品说明已经脱敏</td>\n",
       "      <td>12</td>\n",
       "      <td>0.95</td>\n",
       "      <td>15804</td>\n",
       "      <td>深圳</td>\n",
       "    </tr>\n",
       "    <tr>\n",
       "      <th>87179</th>\n",
       "      <td>581585</td>\n",
       "      <td>22466</td>\n",
       "      <td>6/9/2023 12:31</td>\n",
       "      <td>后续产品说明已经脱敏</td>\n",
       "      <td>12</td>\n",
       "      <td>1.95</td>\n",
       "      <td>15804</td>\n",
       "      <td>深圳</td>\n",
       "    </tr>\n",
       "  </tbody>\n",
       "</table>\n",
       "<p>87180 rows × 8 columns</p>\n",
       "</div>"
      ],
      "text/plain": [
       "          订单号     产品码            消费日期                产品说明  数量      单价    用户码  \\\n",
       "0      536374   21258   6/1/2022 9:09        绿联usb分线器 一拖四  32   10.95  15100   \n",
       "1      536376   22114   6/1/2022 9:32      加大男装T恤男大码胖子宽松卡  48   50.45  15291   \n",
       "2      536376   21733   6/1/2022 9:32      唐装男夏季青年棉麻中国风加肥  64   86.55  15291   \n",
       "3      536378   22386   6/1/2022 9:37        越南进口白心火龙果4个装  10  108.95  14688   \n",
       "4      536378  85099C   6/1/2022 9:37  大连美早樱桃400g 果径约26mm  10  166.95  14688   \n",
       "...       ...     ...             ...                 ...  ..     ...    ...   \n",
       "87175  581585   21684  6/9/2023 12:31          后续产品说明已经脱敏  12    0.85  15804   \n",
       "87176  581585   22398  6/9/2023 12:31          后续产品说明已经脱敏  12    0.39  15804   \n",
       "87177  581585   23328  6/9/2023 12:31          后续产品说明已经脱敏   4    3.75  15804   \n",
       "87178  581585   23145  6/9/2023 12:31          后续产品说明已经脱敏  12    0.95  15804   \n",
       "87179  581585   22466  6/9/2023 12:31          后续产品说明已经脱敏  12    1.95  15804   \n",
       "\n",
       "       城市  \n",
       "0      北京  \n",
       "1      上海  \n",
       "2      上海  \n",
       "3      北京  \n",
       "4      北京  \n",
       "...    ..  \n",
       "87175  深圳  \n",
       "87176  深圳  \n",
       "87177  深圳  \n",
       "87178  深圳  \n",
       "87179  深圳  \n",
       "\n",
       "[87180 rows x 8 columns]"
      ]
     },
     "execution_count": 1,
     "metadata": {},
     "output_type": "execute_result"
    }
   ],
   "source": [
    "import numpy as np # 导入NumPy\n",
    "import pandas as pd # 导入Pandas\n",
    "df_sales = pd.read_csv('电商历史订单.csv') # 导入数据集\n",
    "df_sales # 输出数据"
   ]
  },
  {
   "cell_type": "code",
   "execution_count": 2,
   "id": "02721dbd",
   "metadata": {},
   "outputs": [],
   "source": [
    "df_sales['总价'] = df_sales['数量'] * df_sales['单价'] # 计算每单的总价"
   ]
  },
  {
   "cell_type": "code",
   "execution_count": 3,
   "id": "2b383ea7",
   "metadata": {},
   "outputs": [
    {
     "name": "stdout",
     "output_type": "stream",
     "text": [
      "日期范围: 1/1/2023 10:11 ~ 9/9/2022 9:20\n"
     ]
    }
   ],
   "source": [
    "print('日期范围: %s ~ %s' % (df_sales['消费日期'].min(), df_sales['消费日期'].max())) # 输出日期范围（格式转换前）"
   ]
  },
  {
   "cell_type": "code",
   "execution_count": 4,
   "id": "67ee71c5",
   "metadata": {},
   "outputs": [
    {
     "name": "stdout",
     "output_type": "stream",
     "text": [
      "日期范围: 2022-06-01 09:09:00 ~ 2023-06-09 12:31:00\n"
     ]
    }
   ],
   "source": [
    "df_sales['消费日期'] = pd.to_datetime(df_sales['消费日期']) # 转换日期格式\n",
    "print('日期范围: %s ~ %s' % (df_sales['消费日期'].min(), df_sales['消费日期'].max()))# 输出日期范围"
   ]
  },
  {
   "cell_type": "code",
   "execution_count": 5,
   "id": "a8d4dc67",
   "metadata": {},
   "outputs": [
    {
     "data": {
      "text/html": [
       "<div>\n",
       "<style scoped>\n",
       "    .dataframe tbody tr th:only-of-type {\n",
       "        vertical-align: middle;\n",
       "    }\n",
       "\n",
       "    .dataframe tbody tr th {\n",
       "        vertical-align: top;\n",
       "    }\n",
       "\n",
       "    .dataframe thead th {\n",
       "        text-align: right;\n",
       "    }\n",
       "</style>\n",
       "<table border=\"1\" class=\"dataframe\">\n",
       "  <thead>\n",
       "    <tr style=\"text-align: right;\">\n",
       "      <th></th>\n",
       "      <th>订单号</th>\n",
       "      <th>产品码</th>\n",
       "      <th>消费日期</th>\n",
       "      <th>产品说明</th>\n",
       "      <th>数量</th>\n",
       "      <th>单价</th>\n",
       "      <th>用户码</th>\n",
       "      <th>城市</th>\n",
       "      <th>总价</th>\n",
       "    </tr>\n",
       "  </thead>\n",
       "  <tbody>\n",
       "    <tr>\n",
       "      <th>0</th>\n",
       "      <td>536374</td>\n",
       "      <td>21258</td>\n",
       "      <td>2022-06-01 09:09:00</td>\n",
       "      <td>绿联usb分线器 一拖四</td>\n",
       "      <td>32</td>\n",
       "      <td>10.95</td>\n",
       "      <td>15100</td>\n",
       "      <td>北京</td>\n",
       "      <td>350.4</td>\n",
       "    </tr>\n",
       "    <tr>\n",
       "      <th>1</th>\n",
       "      <td>536376</td>\n",
       "      <td>22114</td>\n",
       "      <td>2022-06-01 09:32:00</td>\n",
       "      <td>加大男装T恤男大码胖子宽松卡</td>\n",
       "      <td>48</td>\n",
       "      <td>50.45</td>\n",
       "      <td>15291</td>\n",
       "      <td>上海</td>\n",
       "      <td>2421.6</td>\n",
       "    </tr>\n",
       "    <tr>\n",
       "      <th>2</th>\n",
       "      <td>536376</td>\n",
       "      <td>21733</td>\n",
       "      <td>2022-06-01 09:32:00</td>\n",
       "      <td>唐装男夏季青年棉麻中国风加肥</td>\n",
       "      <td>64</td>\n",
       "      <td>86.55</td>\n",
       "      <td>15291</td>\n",
       "      <td>上海</td>\n",
       "      <td>5539.2</td>\n",
       "    </tr>\n",
       "    <tr>\n",
       "      <th>3</th>\n",
       "      <td>536378</td>\n",
       "      <td>22386</td>\n",
       "      <td>2022-06-01 09:37:00</td>\n",
       "      <td>越南进口白心火龙果4个装</td>\n",
       "      <td>10</td>\n",
       "      <td>108.95</td>\n",
       "      <td>14688</td>\n",
       "      <td>北京</td>\n",
       "      <td>1089.5</td>\n",
       "    </tr>\n",
       "    <tr>\n",
       "      <th>4</th>\n",
       "      <td>536378</td>\n",
       "      <td>85099C</td>\n",
       "      <td>2022-06-01 09:37:00</td>\n",
       "      <td>大连美早樱桃400g 果径约26mm</td>\n",
       "      <td>10</td>\n",
       "      <td>166.95</td>\n",
       "      <td>14688</td>\n",
       "      <td>北京</td>\n",
       "      <td>1669.5</td>\n",
       "    </tr>\n",
       "    <tr>\n",
       "      <th>...</th>\n",
       "      <td>...</td>\n",
       "      <td>...</td>\n",
       "      <td>...</td>\n",
       "      <td>...</td>\n",
       "      <td>...</td>\n",
       "      <td>...</td>\n",
       "      <td>...</td>\n",
       "      <td>...</td>\n",
       "      <td>...</td>\n",
       "    </tr>\n",
       "    <tr>\n",
       "      <th>14837</th>\n",
       "      <td>545190</td>\n",
       "      <td>22937</td>\n",
       "      <td>2022-08-29 15:32:00</td>\n",
       "      <td>后续产品说明已经脱敏</td>\n",
       "      <td>6</td>\n",
       "      <td>2.50</td>\n",
       "      <td>15656</td>\n",
       "      <td>苏州</td>\n",
       "      <td>15.0</td>\n",
       "    </tr>\n",
       "    <tr>\n",
       "      <th>14838</th>\n",
       "      <td>545190</td>\n",
       "      <td>22722</td>\n",
       "      <td>2022-08-29 15:32:00</td>\n",
       "      <td>后续产品说明已经脱敏</td>\n",
       "      <td>40</td>\n",
       "      <td>3.00</td>\n",
       "      <td>15656</td>\n",
       "      <td>苏州</td>\n",
       "      <td>120.0</td>\n",
       "    </tr>\n",
       "    <tr>\n",
       "      <th>14839</th>\n",
       "      <td>545190</td>\n",
       "      <td>22457</td>\n",
       "      <td>2022-08-29 15:32:00</td>\n",
       "      <td>后续产品说明已经脱敏</td>\n",
       "      <td>6</td>\n",
       "      <td>5.00</td>\n",
       "      <td>15656</td>\n",
       "      <td>苏州</td>\n",
       "      <td>30.0</td>\n",
       "    </tr>\n",
       "    <tr>\n",
       "      <th>14840</th>\n",
       "      <td>545190</td>\n",
       "      <td>22464</td>\n",
       "      <td>2022-08-29 15:32:00</td>\n",
       "      <td>后续产品说明已经脱敏</td>\n",
       "      <td>12</td>\n",
       "      <td>3.00</td>\n",
       "      <td>15656</td>\n",
       "      <td>苏州</td>\n",
       "      <td>36.0</td>\n",
       "    </tr>\n",
       "    <tr>\n",
       "      <th>14841</th>\n",
       "      <td>545190</td>\n",
       "      <td>22423</td>\n",
       "      <td>2022-08-29 15:32:00</td>\n",
       "      <td>后续产品说明已经脱敏</td>\n",
       "      <td>1</td>\n",
       "      <td>22.50</td>\n",
       "      <td>15656</td>\n",
       "      <td>苏州</td>\n",
       "      <td>22.5</td>\n",
       "    </tr>\n",
       "  </tbody>\n",
       "</table>\n",
       "<p>14842 rows × 9 columns</p>\n",
       "</div>"
      ],
      "text/plain": [
       "          订单号     产品码                消费日期                产品说明  数量      单价  \\\n",
       "0      536374   21258 2022-06-01 09:09:00        绿联usb分线器 一拖四  32   10.95   \n",
       "1      536376   22114 2022-06-01 09:32:00      加大男装T恤男大码胖子宽松卡  48   50.45   \n",
       "2      536376   21733 2022-06-01 09:32:00      唐装男夏季青年棉麻中国风加肥  64   86.55   \n",
       "3      536378   22386 2022-06-01 09:37:00        越南进口白心火龙果4个装  10  108.95   \n",
       "4      536378  85099C 2022-06-01 09:37:00  大连美早樱桃400g 果径约26mm  10  166.95   \n",
       "...       ...     ...                 ...                 ...  ..     ...   \n",
       "14837  545190   22937 2022-08-29 15:32:00          后续产品说明已经脱敏   6    2.50   \n",
       "14838  545190   22722 2022-08-29 15:32:00          后续产品说明已经脱敏  40    3.00   \n",
       "14839  545190   22457 2022-08-29 15:32:00          后续产品说明已经脱敏   6    5.00   \n",
       "14840  545190   22464 2022-08-29 15:32:00          后续产品说明已经脱敏  12    3.00   \n",
       "14841  545190   22423 2022-08-29 15:32:00          后续产品说明已经脱敏   1   22.50   \n",
       "\n",
       "         用户码  城市      总价  \n",
       "0      15100  北京   350.4  \n",
       "1      15291  上海  2421.6  \n",
       "2      15291  上海  5539.2  \n",
       "3      14688  北京  1089.5  \n",
       "4      14688  北京  1669.5  \n",
       "...      ...  ..     ...  \n",
       "14837  15656  苏州    15.0  \n",
       "14838  15656  苏州   120.0  \n",
       "14839  15656  苏州    30.0  \n",
       "14840  15656  苏州    36.0  \n",
       "14841  15656  苏州    22.5  \n",
       "\n",
       "[14842 rows x 9 columns]"
      ]
     },
     "execution_count": 5,
     "metadata": {},
     "output_type": "execute_result"
    }
   ],
   "source": [
    "df_sales_3m = df_sales[(df_sales. 消费日期 > '2022-06-01') & (df_sales. 消费日期 <= '2022-08-30')] # 构建仅含前3 个月数据的数据集\n",
    "df_sales_3m.reset_index(drop=True) # 重置索引"
   ]
  },
  {
   "cell_type": "code",
   "execution_count": 6,
   "id": "5a0ebe72",
   "metadata": {},
   "outputs": [
    {
     "data": {
      "text/html": [
       "<div>\n",
       "<style scoped>\n",
       "    .dataframe tbody tr th:only-of-type {\n",
       "        vertical-align: middle;\n",
       "    }\n",
       "\n",
       "    .dataframe tbody tr th {\n",
       "        vertical-align: top;\n",
       "    }\n",
       "\n",
       "    .dataframe thead th {\n",
       "        text-align: right;\n",
       "    }\n",
       "</style>\n",
       "<table border=\"1\" class=\"dataframe\">\n",
       "  <thead>\n",
       "    <tr style=\"text-align: right;\">\n",
       "      <th></th>\n",
       "      <th>用户码</th>\n",
       "    </tr>\n",
       "  </thead>\n",
       "  <tbody>\n",
       "    <tr>\n",
       "      <th>0</th>\n",
       "      <td>15100</td>\n",
       "    </tr>\n",
       "    <tr>\n",
       "      <th>1</th>\n",
       "      <td>15291</td>\n",
       "    </tr>\n",
       "    <tr>\n",
       "      <th>2</th>\n",
       "      <td>14688</td>\n",
       "    </tr>\n",
       "    <tr>\n",
       "      <th>3</th>\n",
       "      <td>15311</td>\n",
       "    </tr>\n",
       "    <tr>\n",
       "      <th>4</th>\n",
       "      <td>15862</td>\n",
       "    </tr>\n",
       "    <tr>\n",
       "      <th>...</th>\n",
       "      <td>...</td>\n",
       "    </tr>\n",
       "    <tr>\n",
       "      <th>365</th>\n",
       "      <td>15951</td>\n",
       "    </tr>\n",
       "    <tr>\n",
       "      <th>366</th>\n",
       "      <td>14745</td>\n",
       "    </tr>\n",
       "    <tr>\n",
       "      <th>367</th>\n",
       "      <td>15724</td>\n",
       "    </tr>\n",
       "    <tr>\n",
       "      <th>368</th>\n",
       "      <td>15874</td>\n",
       "    </tr>\n",
       "    <tr>\n",
       "      <th>369</th>\n",
       "      <td>15656</td>\n",
       "    </tr>\n",
       "  </tbody>\n",
       "</table>\n",
       "<p>370 rows × 1 columns</p>\n",
       "</div>"
      ],
      "text/plain": [
       "       用户码\n",
       "0    15100\n",
       "1    15291\n",
       "2    14688\n",
       "3    15311\n",
       "4    15862\n",
       "..     ...\n",
       "365  15951\n",
       "366  14745\n",
       "367  15724\n",
       "368  15874\n",
       "369  15656\n",
       "\n",
       "[370 rows x 1 columns]"
      ]
     },
     "execution_count": 6,
     "metadata": {},
     "output_type": "execute_result"
    }
   ],
   "source": [
    "df_user_LTV = pd.DataFrame(df_sales_3m['用户码'].unique()) # 生成以“用户码”为主键的对象\n",
    "df_user_LTV.columns = ['用户码'] # 设定字段名\n",
    "df_user_LTV # 输出数据"
   ]
  },
  {
   "cell_type": "code",
   "execution_count": 7,
   "id": "5f54cefe",
   "metadata": {},
   "outputs": [],
   "source": [
    "df_R_value = df_sales_3m.groupby('用户码'). 消费日期.max().reset_index() # 找到每个用户的最近消费日期，构建df_R_value 对象\n",
    "df_R_value.columns = ['用户码','最近购买日期'] # 设定字段名\n",
    "df_R_value['R值'] = (df_R_value['最近购买日期'].max() - df_R_value['最近购买日期']).dt.days # 计算最新日期与上次消费日期间的天数\n",
    "df_user_LTV = pd.merge(df_user_LTV, df_R_value[['用户码','R值']], on='用户码') # 把上次消费日期距最新日期的天数（R 值）整合至df_user 对象中"
   ]
  },
  {
   "cell_type": "code",
   "execution_count": 8,
   "id": "0f6efd0c",
   "metadata": {},
   "outputs": [],
   "source": [
    "df_F_value = df_sales_3m.groupby('用户码'). 消费日期.count().reset_index() # 计算每个用户的消费次数，构建df_F_value 对象\n",
    "df_F_value.columns = ['用户码','F值'] # 设定字段名\n",
    "df_user_LTV = pd.merge(df_user_LTV, df_F_value[['用户码','F值']], on='用户码') # 把消费频率(F 值)整合至df_user 对象中"
   ]
  },
  {
   "cell_type": "code",
   "execution_count": 9,
   "id": "52245fbe",
   "metadata": {},
   "outputs": [],
   "source": [
    "df_M_value = df_sales_3m.groupby('用户码').总价.sum().reset_index() # 计算每个用户前3 个月的消费总额，构建df_M_value 对象\n",
    "df_M_value.columns = ['用户码','M值'] # 设定字段名\n",
    "df_user_LTV = pd.merge(df_user_LTV, df_M_value, on='用户码') # 把消费总额（M 值）整合至df_user对象中"
   ]
  },
  {
   "cell_type": "code",
   "execution_count": 10,
   "id": "6a044394",
   "metadata": {},
   "outputs": [
    {
     "data": {
      "text/html": [
       "<div>\n",
       "<style scoped>\n",
       "    .dataframe tbody tr th:only-of-type {\n",
       "        vertical-align: middle;\n",
       "    }\n",
       "\n",
       "    .dataframe tbody tr th {\n",
       "        vertical-align: top;\n",
       "    }\n",
       "\n",
       "    .dataframe thead th {\n",
       "        text-align: right;\n",
       "    }\n",
       "</style>\n",
       "<table border=\"1\" class=\"dataframe\">\n",
       "  <thead>\n",
       "    <tr style=\"text-align: right;\">\n",
       "      <th></th>\n",
       "      <th>用户码</th>\n",
       "      <th>R值</th>\n",
       "      <th>F值</th>\n",
       "      <th>M值</th>\n",
       "    </tr>\n",
       "  </thead>\n",
       "  <tbody>\n",
       "    <tr>\n",
       "      <th>0</th>\n",
       "      <td>15100</td>\n",
       "      <td>45</td>\n",
       "      <td>7</td>\n",
       "      <td>985.50</td>\n",
       "    </tr>\n",
       "    <tr>\n",
       "      <th>1</th>\n",
       "      <td>15291</td>\n",
       "      <td>35</td>\n",
       "      <td>37</td>\n",
       "      <td>16922.75</td>\n",
       "    </tr>\n",
       "    <tr>\n",
       "      <th>2</th>\n",
       "      <td>14688</td>\n",
       "      <td>6</td>\n",
       "      <td>88</td>\n",
       "      <td>14700.78</td>\n",
       "    </tr>\n",
       "    <tr>\n",
       "      <th>3</th>\n",
       "      <td>15311</td>\n",
       "      <td>5</td>\n",
       "      <td>717</td>\n",
       "      <td>12734.66</td>\n",
       "    </tr>\n",
       "    <tr>\n",
       "      <th>4</th>\n",
       "      <td>15862</td>\n",
       "      <td>89</td>\n",
       "      <td>59</td>\n",
       "      <td>1297.71</td>\n",
       "    </tr>\n",
       "  </tbody>\n",
       "</table>\n",
       "</div>"
      ],
      "text/plain": [
       "     用户码  R值   F值        M值\n",
       "0  15100  45    7    985.50\n",
       "1  15291  35   37  16922.75\n",
       "2  14688   6   88  14700.78\n",
       "3  15311   5  717  12734.66\n",
       "4  15862  89   59   1297.71"
      ]
     },
     "execution_count": 10,
     "metadata": {},
     "output_type": "execute_result"
    }
   ],
   "source": [
    "df_user_LTV.head() # 输出df_user_LTV 的前几行数据"
   ]
  },
  {
   "cell_type": "code",
   "execution_count": 11,
   "id": "a415558b",
   "metadata": {},
   "outputs": [
    {
     "data": {
      "text/html": [
       "<div>\n",
       "<style scoped>\n",
       "    .dataframe tbody tr th:only-of-type {\n",
       "        vertical-align: middle;\n",
       "    }\n",
       "\n",
       "    .dataframe tbody tr th {\n",
       "        vertical-align: top;\n",
       "    }\n",
       "\n",
       "    .dataframe thead th {\n",
       "        text-align: right;\n",
       "    }\n",
       "</style>\n",
       "<table border=\"1\" class=\"dataframe\">\n",
       "  <thead>\n",
       "    <tr style=\"text-align: right;\">\n",
       "      <th></th>\n",
       "      <th>用户码</th>\n",
       "      <th>年度LTV</th>\n",
       "    </tr>\n",
       "  </thead>\n",
       "  <tbody>\n",
       "    <tr>\n",
       "      <th>0</th>\n",
       "      <td>14681</td>\n",
       "      <td>498.95</td>\n",
       "    </tr>\n",
       "    <tr>\n",
       "      <th>1</th>\n",
       "      <td>14682</td>\n",
       "      <td>52.00</td>\n",
       "    </tr>\n",
       "    <tr>\n",
       "      <th>2</th>\n",
       "      <td>14684</td>\n",
       "      <td>1236.28</td>\n",
       "    </tr>\n",
       "    <tr>\n",
       "      <th>3</th>\n",
       "      <td>14687</td>\n",
       "      <td>628.38</td>\n",
       "    </tr>\n",
       "    <tr>\n",
       "      <th>4</th>\n",
       "      <td>14688</td>\n",
       "      <td>18335.88</td>\n",
       "    </tr>\n",
       "  </tbody>\n",
       "</table>\n",
       "</div>"
      ],
      "text/plain": [
       "     用户码     年度LTV\n",
       "0  14681    498.95\n",
       "1  14682     52.00\n",
       "2  14684   1236.28\n",
       "3  14687    628.38\n",
       "4  14688  18335.88"
      ]
     },
     "execution_count": 11,
     "metadata": {},
     "output_type": "execute_result"
    }
   ],
   "source": [
    "df_user_1y = df_sales.groupby('用户码')['总价'].sum().reset_index() # 计算每个用户的整年消费总额，构建df_user_1y 对象\n",
    "df_user_1y.columns = ['用户码','年度LTV'] # 设定字段名\n",
    "df_user_1y.head() # 输出前几行数据"
   ]
  },
  {
   "cell_type": "code",
   "execution_count": 12,
   "id": "b6d57352",
   "metadata": {},
   "outputs": [
    {
     "data": {
      "text/html": [
       "<div>\n",
       "<style scoped>\n",
       "    .dataframe tbody tr th:only-of-type {\n",
       "        vertical-align: middle;\n",
       "    }\n",
       "\n",
       "    .dataframe tbody tr th {\n",
       "        vertical-align: top;\n",
       "    }\n",
       "\n",
       "    .dataframe thead th {\n",
       "        text-align: right;\n",
       "    }\n",
       "</style>\n",
       "<table border=\"1\" class=\"dataframe\">\n",
       "  <thead>\n",
       "    <tr style=\"text-align: right;\">\n",
       "      <th></th>\n",
       "      <th>用户码</th>\n",
       "      <th>R值</th>\n",
       "      <th>F值</th>\n",
       "      <th>M值</th>\n",
       "      <th>年度LTV</th>\n",
       "    </tr>\n",
       "  </thead>\n",
       "  <tbody>\n",
       "    <tr>\n",
       "      <th>0</th>\n",
       "      <td>15100</td>\n",
       "      <td>45</td>\n",
       "      <td>7</td>\n",
       "      <td>985.50</td>\n",
       "      <td>985.50</td>\n",
       "    </tr>\n",
       "    <tr>\n",
       "      <th>1</th>\n",
       "      <td>15291</td>\n",
       "      <td>35</td>\n",
       "      <td>37</td>\n",
       "      <td>16922.75</td>\n",
       "      <td>20189.31</td>\n",
       "    </tr>\n",
       "    <tr>\n",
       "      <th>2</th>\n",
       "      <td>14688</td>\n",
       "      <td>6</td>\n",
       "      <td>88</td>\n",
       "      <td>14700.78</td>\n",
       "      <td>18335.88</td>\n",
       "    </tr>\n",
       "    <tr>\n",
       "      <th>3</th>\n",
       "      <td>15311</td>\n",
       "      <td>5</td>\n",
       "      <td>717</td>\n",
       "      <td>12734.66</td>\n",
       "      <td>59423.99</td>\n",
       "    </tr>\n",
       "    <tr>\n",
       "      <th>4</th>\n",
       "      <td>15862</td>\n",
       "      <td>89</td>\n",
       "      <td>59</td>\n",
       "      <td>1297.71</td>\n",
       "      <td>1776.36</td>\n",
       "    </tr>\n",
       "    <tr>\n",
       "      <th>...</th>\n",
       "      <td>...</td>\n",
       "      <td>...</td>\n",
       "      <td>...</td>\n",
       "      <td>...</td>\n",
       "      <td>...</td>\n",
       "    </tr>\n",
       "    <tr>\n",
       "      <th>365</th>\n",
       "      <td>15951</td>\n",
       "      <td>1</td>\n",
       "      <td>22</td>\n",
       "      <td>375.17</td>\n",
       "      <td>669.57</td>\n",
       "    </tr>\n",
       "    <tr>\n",
       "      <th>366</th>\n",
       "      <td>14745</td>\n",
       "      <td>1</td>\n",
       "      <td>7</td>\n",
       "      <td>240.60</td>\n",
       "      <td>1167.16</td>\n",
       "    </tr>\n",
       "    <tr>\n",
       "      <th>367</th>\n",
       "      <td>15724</td>\n",
       "      <td>0</td>\n",
       "      <td>5</td>\n",
       "      <td>103.65</td>\n",
       "      <td>212.30</td>\n",
       "    </tr>\n",
       "    <tr>\n",
       "      <th>368</th>\n",
       "      <td>15874</td>\n",
       "      <td>0</td>\n",
       "      <td>5</td>\n",
       "      <td>584.35</td>\n",
       "      <td>4330.67</td>\n",
       "    </tr>\n",
       "    <tr>\n",
       "      <th>369</th>\n",
       "      <td>15656</td>\n",
       "      <td>0</td>\n",
       "      <td>15</td>\n",
       "      <td>385.10</td>\n",
       "      <td>890.65</td>\n",
       "    </tr>\n",
       "  </tbody>\n",
       "</table>\n",
       "<p>370 rows × 5 columns</p>\n",
       "</div>"
      ],
      "text/plain": [
       "       用户码  R值   F值        M值     年度LTV\n",
       "0    15100  45    7    985.50    985.50\n",
       "1    15291  35   37  16922.75  20189.31\n",
       "2    14688   6   88  14700.78  18335.88\n",
       "3    15311   5  717  12734.66  59423.99\n",
       "4    15862  89   59   1297.71   1776.36\n",
       "..     ...  ..  ...       ...       ...\n",
       "365  15951   1   22    375.17    669.57\n",
       "366  14745   1    7    240.60   1167.16\n",
       "367  15724   0    5    103.65    212.30\n",
       "368  15874   0    5    584.35   4330.67\n",
       "369  15656   0   15    385.10    890.65\n",
       "\n",
       "[370 rows x 5 columns]"
      ]
     },
     "execution_count": 12,
     "metadata": {},
     "output_type": "execute_result"
    }
   ],
   "source": [
    "df_LTV = pd.merge(df_user_LTV, df_user_1y, on='用户码', how='left') # 计算整体LTV，训练数据集\n",
    "df_LTV # 输出df_LTV"
   ]
  },
  {
   "cell_type": "code",
   "execution_count": 13,
   "id": "803f9f2a",
   "metadata": {},
   "outputs": [
    {
     "data": {
      "text/html": [
       "<div>\n",
       "<style scoped>\n",
       "    .dataframe tbody tr th:only-of-type {\n",
       "        vertical-align: middle;\n",
       "    }\n",
       "\n",
       "    .dataframe tbody tr th {\n",
       "        vertical-align: top;\n",
       "    }\n",
       "\n",
       "    .dataframe thead th {\n",
       "        text-align: right;\n",
       "    }\n",
       "</style>\n",
       "<table border=\"1\" class=\"dataframe\">\n",
       "  <thead>\n",
       "    <tr style=\"text-align: right;\">\n",
       "      <th></th>\n",
       "      <th>R值</th>\n",
       "      <th>F值</th>\n",
       "      <th>M值</th>\n",
       "    </tr>\n",
       "  </thead>\n",
       "  <tbody>\n",
       "    <tr>\n",
       "      <th>0</th>\n",
       "      <td>45</td>\n",
       "      <td>7</td>\n",
       "      <td>985.50</td>\n",
       "    </tr>\n",
       "    <tr>\n",
       "      <th>1</th>\n",
       "      <td>35</td>\n",
       "      <td>37</td>\n",
       "      <td>16922.75</td>\n",
       "    </tr>\n",
       "    <tr>\n",
       "      <th>2</th>\n",
       "      <td>6</td>\n",
       "      <td>88</td>\n",
       "      <td>14700.78</td>\n",
       "    </tr>\n",
       "    <tr>\n",
       "      <th>3</th>\n",
       "      <td>5</td>\n",
       "      <td>717</td>\n",
       "      <td>12734.66</td>\n",
       "    </tr>\n",
       "    <tr>\n",
       "      <th>4</th>\n",
       "      <td>89</td>\n",
       "      <td>59</td>\n",
       "      <td>1297.71</td>\n",
       "    </tr>\n",
       "  </tbody>\n",
       "</table>\n",
       "</div>"
      ],
      "text/plain": [
       "   R值   F值        M值\n",
       "0  45    7    985.50\n",
       "1  35   37  16922.75\n",
       "2   6   88  14700.78\n",
       "3   5  717  12734.66\n",
       "4  89   59   1297.71"
      ]
     },
     "execution_count": 13,
     "metadata": {},
     "output_type": "execute_result"
    }
   ],
   "source": [
    "X = df_LTV.drop(['用户码','年度LTV'],axis=1) # 特征集\n",
    "X.head() # 输出特征集"
   ]
  },
  {
   "cell_type": "code",
   "execution_count": 14,
   "id": "6390c4f1",
   "metadata": {},
   "outputs": [
    {
     "data": {
      "text/plain": [
       "0      985.50\n",
       "1    20189.31\n",
       "2    18335.88\n",
       "3    59423.99\n",
       "4     1776.36\n",
       "Name: 年度LTV, dtype: float64"
      ]
     },
     "execution_count": 14,
     "metadata": {},
     "output_type": "execute_result"
    }
   ],
   "source": [
    "y = df_LTV['年度LTV'] # 标签集\n",
    "y.head() #输出标签集"
   ]
  },
  {
   "cell_type": "code",
   "execution_count": 15,
   "id": "8d7ec803",
   "metadata": {},
   "outputs": [],
   "source": [
    "from sklearn.model_selection import train_test_split #导入train_test_split\n",
    "X_train, X_test, y_train, y_test = train_test_split(X, y, test_size=0.2, random_state=7) #拆分训练集和测试集"
   ]
  },
  {
   "cell_type": "code",
   "execution_count": 16,
   "id": "bef62963",
   "metadata": {},
   "outputs": [],
   "source": [
    "from sklearn.linear_model import LinearRegression #导入线性回归模块\n",
    "model = LinearRegression() #创建线性回归模型"
   ]
  },
  {
   "cell_type": "code",
   "execution_count": 17,
   "id": "0ba3ad07",
   "metadata": {},
   "outputs": [
    {
     "data": {
      "text/html": [
       "<style>#sk-container-id-1 {color: black;background-color: white;}#sk-container-id-1 pre{padding: 0;}#sk-container-id-1 div.sk-toggleable {background-color: white;}#sk-container-id-1 label.sk-toggleable__label {cursor: pointer;display: block;width: 100%;margin-bottom: 0;padding: 0.3em;box-sizing: border-box;text-align: center;}#sk-container-id-1 label.sk-toggleable__label-arrow:before {content: \"▸\";float: left;margin-right: 0.25em;color: #696969;}#sk-container-id-1 label.sk-toggleable__label-arrow:hover:before {color: black;}#sk-container-id-1 div.sk-estimator:hover label.sk-toggleable__label-arrow:before {color: black;}#sk-container-id-1 div.sk-toggleable__content {max-height: 0;max-width: 0;overflow: hidden;text-align: left;background-color: #f0f8ff;}#sk-container-id-1 div.sk-toggleable__content pre {margin: 0.2em;color: black;border-radius: 0.25em;background-color: #f0f8ff;}#sk-container-id-1 input.sk-toggleable__control:checked~div.sk-toggleable__content {max-height: 200px;max-width: 100%;overflow: auto;}#sk-container-id-1 input.sk-toggleable__control:checked~label.sk-toggleable__label-arrow:before {content: \"▾\";}#sk-container-id-1 div.sk-estimator input.sk-toggleable__control:checked~label.sk-toggleable__label {background-color: #d4ebff;}#sk-container-id-1 div.sk-label input.sk-toggleable__control:checked~label.sk-toggleable__label {background-color: #d4ebff;}#sk-container-id-1 input.sk-hidden--visually {border: 0;clip: rect(1px 1px 1px 1px);clip: rect(1px, 1px, 1px, 1px);height: 1px;margin: -1px;overflow: hidden;padding: 0;position: absolute;width: 1px;}#sk-container-id-1 div.sk-estimator {font-family: monospace;background-color: #f0f8ff;border: 1px dotted black;border-radius: 0.25em;box-sizing: border-box;margin-bottom: 0.5em;}#sk-container-id-1 div.sk-estimator:hover {background-color: #d4ebff;}#sk-container-id-1 div.sk-parallel-item::after {content: \"\";width: 100%;border-bottom: 1px solid gray;flex-grow: 1;}#sk-container-id-1 div.sk-label:hover label.sk-toggleable__label {background-color: #d4ebff;}#sk-container-id-1 div.sk-serial::before {content: \"\";position: absolute;border-left: 1px solid gray;box-sizing: border-box;top: 0;bottom: 0;left: 50%;z-index: 0;}#sk-container-id-1 div.sk-serial {display: flex;flex-direction: column;align-items: center;background-color: white;padding-right: 0.2em;padding-left: 0.2em;position: relative;}#sk-container-id-1 div.sk-item {position: relative;z-index: 1;}#sk-container-id-1 div.sk-parallel {display: flex;align-items: stretch;justify-content: center;background-color: white;position: relative;}#sk-container-id-1 div.sk-item::before, #sk-container-id-1 div.sk-parallel-item::before {content: \"\";position: absolute;border-left: 1px solid gray;box-sizing: border-box;top: 0;bottom: 0;left: 50%;z-index: -1;}#sk-container-id-1 div.sk-parallel-item {display: flex;flex-direction: column;z-index: 1;position: relative;background-color: white;}#sk-container-id-1 div.sk-parallel-item:first-child::after {align-self: flex-end;width: 50%;}#sk-container-id-1 div.sk-parallel-item:last-child::after {align-self: flex-start;width: 50%;}#sk-container-id-1 div.sk-parallel-item:only-child::after {width: 0;}#sk-container-id-1 div.sk-dashed-wrapped {border: 1px dashed gray;margin: 0 0.4em 0.5em 0.4em;box-sizing: border-box;padding-bottom: 0.4em;background-color: white;}#sk-container-id-1 div.sk-label label {font-family: monospace;font-weight: bold;display: inline-block;line-height: 1.2em;}#sk-container-id-1 div.sk-label-container {text-align: center;}#sk-container-id-1 div.sk-container {/* jupyter's `normalize.less` sets `[hidden] { display: none; }` but bootstrap.min.css set `[hidden] { display: none !important; }` so we also need the `!important` here to be able to override the default hidden behavior on the sphinx rendered scikit-learn.org. See: https://github.com/scikit-learn/scikit-learn/issues/21755 */display: inline-block !important;position: relative;}#sk-container-id-1 div.sk-text-repr-fallback {display: none;}</style><div id=\"sk-container-id-1\" class=\"sk-top-container\"><div class=\"sk-text-repr-fallback\"><pre>LinearRegression()</pre><b>In a Jupyter environment, please rerun this cell to show the HTML representation or trust the notebook. <br />On GitHub, the HTML representation is unable to render, please try loading this page with nbviewer.org.</b></div><div class=\"sk-container\" hidden><div class=\"sk-item\"><div class=\"sk-estimator sk-toggleable\"><input class=\"sk-toggleable__control sk-hidden--visually\" id=\"sk-estimator-id-1\" type=\"checkbox\" checked><label for=\"sk-estimator-id-1\" class=\"sk-toggleable__label sk-toggleable__label-arrow\">LinearRegression</label><div class=\"sk-toggleable__content\"><pre>LinearRegression()</pre></div></div></div></div></div>"
      ],
      "text/plain": [
       "LinearRegression()"
      ]
     },
     "execution_count": 17,
     "metadata": {},
     "output_type": "execute_result"
    }
   ],
   "source": [
    "model.fit(X_train, y_train) #拟合模型"
   ]
  },
  {
   "cell_type": "code",
   "execution_count": 25,
   "id": "a352427e",
   "metadata": {},
   "outputs": [],
   "source": [
    "y_train_preds =  model.predict(X_train) # 用模型预测训练集\n",
    "y_test_preds = model.predict(X_test) # 用模型预测测试集"
   ]
  },
  {
   "cell_type": "code",
   "execution_count": 20,
   "id": "a2a5cc02",
   "metadata": {},
   "outputs": [
    {
     "data": {
      "text/plain": [
       "R值     83.00\n",
       "F值     64.00\n",
       "M值    521.69\n",
       "Name: 80, dtype: float64"
      ]
     },
     "execution_count": 20,
     "metadata": {},
     "output_type": "execute_result"
    }
   ],
   "source": [
    "X_test.iloc[2] # 随机选择一行数据"
   ]
  },
  {
   "cell_type": "code",
   "execution_count": 21,
   "id": "051a32b9",
   "metadata": {},
   "outputs": [
    {
     "data": {
      "text/plain": [
       "1376.3506740578225"
      ]
     },
     "execution_count": 21,
     "metadata": {},
     "output_type": "execute_result"
    }
   ],
   "source": [
    "y_test_preds[2] #模型预测值"
   ]
  },
  {
   "cell_type": "code",
   "execution_count": 22,
   "id": "69770946",
   "metadata": {},
   "outputs": [
    {
     "data": {
      "text/plain": [
       "1384.68"
      ]
     },
     "execution_count": 22,
     "metadata": {},
     "output_type": "execute_result"
    }
   ],
   "source": [
    "y_test.iloc[2] #实际值"
   ]
  },
  {
   "cell_type": "code",
   "execution_count": 23,
   "id": "a255a83c",
   "metadata": {},
   "outputs": [
    {
     "name": "stdout",
     "output_type": "stream",
     "text": [
      "训练集上的R平方分数: 0.6187\n",
      "测试集上的R平方分数: 0.4778\n"
     ]
    }
   ],
   "source": [
    "from sklearn.metrics import r2_score, median_absolute_error #导入Sklearn评估模块\n",
    "print('训练集上的R平方分数: %0.4f' % r2_score(y_true=y_train, y_pred=y_train_preds))\n",
    "print('测试集上的R平方分数: %0.4f' % r2_score(y_true=y_test, y_pred=y_test_preds))"
   ]
  },
  {
   "cell_type": "code",
   "execution_count": 24,
   "id": "b521442e",
   "metadata": {},
   "outputs": [
    {
     "data": {
      "text/plain": [
       "Text(0.5, 1.0, ' 实际值与预测值')"
      ]
     },
     "execution_count": 24,
     "metadata": {},
     "output_type": "execute_result"
    },
    {
     "data": {
      "image/png": "[encoded data removed]",
      "text/plain": [
       "<Figure size 640x480 with 1 Axes>"
      ]
     },
     "metadata": {},
     "output_type": "display_data"
    }
   ],
   "source": [
    "import matplotlib.pyplot as plt # 导入Matplotlib 的pyplot 模块\n",
    "plt.rcParams[\"font.family\"]=['SimHei'] #用来设定字体样式\n",
    "plt.rcParams['font.sans-serif']=['SimHei'] #用来设定无衬线字体样式\n",
    "plt.rcParams['axes.unicode_minus']=False #用来正常显示负号\n",
    "plt.scatter(y_test, y_test_preds) # 预测值和实际值的散点图\n",
    "plt.plot([0, max(y_test)], [0, max(y_test_preds)], color='gray', lw=1, linestyle='--') # 绘图\n",
    "plt.xlabel(' 实际值') #x 轴\n",
    "plt.ylabel(' 预测值') #y 轴\n",
    "plt.title(' 实际值与预测值') # 标题"
   ]
  },
  {
   "cell_type": "markdown",
   "id": "e4b8b550",
   "metadata": {},
   "source": [
    "**就到这里！下面请大家自行研习更多算法，并加以比较**\n",
    "\n",
    "scikit-learn中可应用于解决回归问题的算法很多，并不仅限于线性回归。就本例而言，大家还可以尝试使用SVM、决策树、集成学习等模型。"
   ]
  }
 ],
 "metadata": {
  "kernelspec": {
   "display_name": "Python 3 (ipykernel)",
   "language": "python",
   "name": "python3"
  },
  "language_info": {
   "codemirror_mode": {
    "name": "ipython",
    "version": 3
   },
   "file_extension": ".py",
   "mimetype": "text/x-python",
   "name": "python",
   "nbconvert_exporter": "python",
   "pygments_lexer": "ipython3",
   "version": "3.10.11"
  }
 },
 "nbformat": 4,
 "nbformat_minor": 5
}
